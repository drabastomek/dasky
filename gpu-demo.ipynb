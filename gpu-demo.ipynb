{
 "cells": [
  {
   "cell_type": "code",
   "execution_count": null,
   "metadata": {},
   "outputs": [],
   "source": [
    "import os\n",
    "import dask\n",
    "from dask.distributed import Client\n",
    "from azureml.core import Run"
   ]
  },
  {
   "cell_type": "code",
   "execution_count": null,
   "metadata": {},
   "outputs": [],
   "source": [
    "def update_packages():\n",
    "    os.system('pip install --upgrade fsspec adlfs')"
   ]
  },
  {
   "cell_type": "code",
   "execution_count": null,
   "metadata": {},
   "outputs": [],
   "source": [
    "computes = [dask.delayed(update_packages)() for i in range(16)]\n",
    "computes;"
   ]
  },
  {
   "cell_type": "code",
   "execution_count": null,
   "metadata": {},
   "outputs": [],
   "source": [
    "run = Run.get_context()\n",
    "run\n",
    "\n",
    "c = Client(run.get_metrics()['scheduler'])\n",
    "c.compute(computes)"
   ]
  },
  {
   "cell_type": "code",
   "execution_count": 1,
   "metadata": {},
   "outputs": [],
   "source": [
    "import os\n",
    "import dask\n",
    "import time\n",
    "#import adlfs\n",
    "import joblib\n",
    "import fsspec\n",
    "import socket\n",
    "import matplotlib\n",
    "\n",
    "import pandas as pd\n",
    "import dask.dataframe as dd\n",
    "import matplotlib.pyplot as plt\n",
    "\n",
    "from datetime import datetime, timedelta\n",
    "from dask.distributed import Client\n",
    "from IPython.core.display import HTML\n",
    "from dask_ml.xgboost import XGBRegressor\n",
    "\n",
    "from azureml.core import Run\n",
    "\n",
    "%matplotlib inline"
   ]
  },
  {
   "cell_type": "code",
   "execution_count": 2,
   "metadata": {},
   "outputs": [
    {
     "data": {
      "text/html": [
       "<table style=\"width:100%\"><tr><th>Experiment</th><th>Id</th><th>Type</th><th>Status</th><th>Details Page</th><th>Docs Page</th></tr><tr><td>dask-dask-demo</td><td>dask-dask-demo_1579797359_4a4da0f1</td><td>azureml.scriptrun</td><td>Running</td><td><a href=\"https://ml.azure.com/experiments/dask-dask-demo/runs/dask-dask-demo_1579797359_4a4da0f1?wsid=/subscriptions/6560575d-fa06-4e7d-95fb-f962e74efd7a/resourcegroups/copeters-rg/workspaces/dask-azureml\" target=\"_blank\" rel=\"noopener\">Link to Azure Machine Learning studio</a></td><td><a href=\"https://docs.microsoft.com/en-us/python/api/azureml-core/azureml.core.run._SubmittedRun?view=azure-ml-py\" target=\"_blank\" rel=\"noopener\">Link to Documentation</a></td></tr></table>"
      ],
      "text/plain": [
       "Run(Experiment: dask-dask-demo,\n",
       "Id: dask-dask-demo_1579797359_4a4da0f1,\n",
       "Type: azureml.scriptrun,\n",
       "Status: Running)"
      ]
     },
     "execution_count": 2,
     "metadata": {},
     "output_type": "execute_result"
    }
   ],
   "source": [
    "run = Run.get_context()\n",
    "run"
   ]
  },
  {
   "cell_type": "code",
   "execution_count": 19,
   "metadata": {},
   "outputs": [
    {
     "data": {
      "text/html": [
       "<table style=\"border: 2px solid white;\">\n",
       "<tr>\n",
       "<td style=\"vertical-align: top; border: 0px solid white\">\n",
       "<h3 style=\"text-align: left;\">Client</h3>\n",
       "<ul style=\"text-align: left; list-style: none; margin: 0; padding: 0;\">\n",
       "  <li><b>Scheduler: </b>tcp://10.3.0.5:8786</li>\n",
       "  <li><b>Dashboard: </b><a href='http://10.3.0.5:8787/status' target='_blank'>http://10.3.0.5:8787/status</a>\n",
       "</ul>\n",
       "</td>\n",
       "<td style=\"vertical-align: top; border: 0px solid white\">\n",
       "<h3 style=\"text-align: left;\">Cluster</h3>\n",
       "<ul style=\"text-align: left; list-style:none; margin: 0; padding: 0;\">\n",
       "  <li><b>Workers: </b>15</li>\n",
       "  <li><b>Cores: </b>15</li>\n",
       "  <li><b>Memory: </b>0 B</li>\n",
       "</ul>\n",
       "</td>\n",
       "</tr>\n",
       "</table>"
      ],
      "text/plain": [
       "<Client: 'tcp://10.3.0.5:8786' processes=15 threads=15>"
      ]
     },
     "execution_count": 19,
     "metadata": {},
     "output_type": "execute_result"
    }
   ],
   "source": [
    "c = Client(run.get_metrics()['scheduler'])\n",
    "c"
   ]
  },
  {
   "cell_type": "code",
   "execution_count": 20,
   "metadata": {},
   "outputs": [
    {
     "data": {
      "text/html": [
       "<table style=\"border: 2px solid white;\">\n",
       "<tr>\n",
       "<td style=\"vertical-align: top; border: 0px solid white\">\n",
       "<h3 style=\"text-align: left;\">Client</h3>\n",
       "<ul style=\"text-align: left; list-style: none; margin: 0; padding: 0;\">\n",
       "  <li><b>Scheduler: </b>tcp://10.3.0.5:8786</li>\n",
       "  <li><b>Dashboard: </b><a href='http://10.3.0.5:8787/status' target='_blank'>http://10.3.0.5:8787/status</a>\n",
       "</ul>\n",
       "</td>\n",
       "<td style=\"vertical-align: top; border: 0px solid white\">\n",
       "<h3 style=\"text-align: left;\">Cluster</h3>\n",
       "<ul style=\"text-align: left; list-style:none; margin: 0; padding: 0;\">\n",
       "  <li><b>Workers: </b>15</li>\n",
       "  <li><b>Cores: </b>15</li>\n",
       "  <li><b>Memory: </b>0 B</li>\n",
       "</ul>\n",
       "</td>\n",
       "</tr>\n",
       "</table>"
      ],
      "text/plain": [
       "<Client: 'tcp://10.3.0.5:8786' processes=0 threads=0, memory=0 B>"
      ]
     },
     "execution_count": 20,
     "metadata": {},
     "output_type": "execute_result"
    }
   ],
   "source": [
    "c.restart()"
   ]
  },
  {
   "cell_type": "code",
   "execution_count": null,
   "metadata": {},
   "outputs": [],
   "source": [
    "#from dask_cuda import LocalCUDACluster"
   ]
  },
  {
   "cell_type": "code",
   "execution_count": null,
   "metadata": {},
   "outputs": [],
   "source": [
    "#cluster = LocalCUDACluster()"
   ]
  },
  {
   "cell_type": "code",
   "execution_count": null,
   "metadata": {},
   "outputs": [],
   "source": [
    "#help(cluster.__init__)"
   ]
  },
  {
   "cell_type": "code",
   "execution_count": null,
   "metadata": {},
   "outputs": [],
   "source": [
    "#c.restart()"
   ]
  },
  {
   "cell_type": "code",
   "execution_count": 4,
   "metadata": {},
   "outputs": [
    {
     "data": {
      "text/html": [
       "<table style=\"border: 2px solid white;\">\n",
       "<tr>\n",
       "<td style=\"vertical-align: top; border: 0px solid white\">\n",
       "<h3 style=\"text-align: left;\">Client</h3>\n",
       "<ul style=\"text-align: left; list-style: none; margin: 0; padding: 0;\">\n",
       "  <li><b>Scheduler: </b>tcp://10.3.0.5:8786</li>\n",
       "  <li><b>Dashboard: </b><a href='http://10.3.0.5:8787/status' target='_blank'>http://10.3.0.5:8787/status</a>\n",
       "</ul>\n",
       "</td>\n",
       "<td style=\"vertical-align: top; border: 0px solid white\">\n",
       "<h3 style=\"text-align: left;\">Cluster</h3>\n",
       "<ul style=\"text-align: left; list-style:none; margin: 0; padding: 0;\">\n",
       "  <li><b>Workers: </b>15</li>\n",
       "  <li><b>Cores: </b>15</li>\n",
       "  <li><b>Memory: </b>0 B</li>\n",
       "</ul>\n",
       "</td>\n",
       "</tr>\n",
       "</table>"
      ],
      "text/plain": [
       "<Client: 'tcp://10.3.0.5:8786' processes=15 threads=15>"
      ]
     },
     "execution_count": 4,
     "metadata": {},
     "output_type": "execute_result"
    }
   ],
   "source": [
    "#c = Client(cluster)\n",
    "c"
   ]
  },
  {
   "cell_type": "code",
   "execution_count": 21,
   "metadata": {},
   "outputs": [],
   "source": [
    "STORAGE_OPTIONS = {\n",
    "    'account_name': run.experiment.workspace.datastores['gen2'].account_name,\n",
    "    'account_key' : run.experiment.workspace.datastores['gen2'].account_key\n",
    "}"
   ]
  },
  {
   "cell_type": "code",
   "execution_count": 22,
   "metadata": {},
   "outputs": [],
   "source": [
    "protocol   = 'abfs'\n",
    "filesystem = 'datasets'"
   ]
  },
  {
   "cell_type": "code",
   "execution_count": 23,
   "metadata": {},
   "outputs": [
    {
     "data": {
      "text/plain": [
       "'abfs://datasets'"
      ]
     },
     "execution_count": 23,
     "metadata": {},
     "output_type": "execute_result"
    }
   ],
   "source": [
    "data_path = f'{protocol}://{filesystem}'\n",
    "data_path"
   ]
  },
  {
   "cell_type": "code",
   "execution_count": 31,
   "metadata": {},
   "outputs": [
    {
     "data": {
      "text/plain": [
       "'/mnt/batch/tasks/shared/LS_root/jobs/dask-azureml/azureml/dask-dask-demo_1579797359_4a4da0f1/mounts/gen2'"
      ]
     },
     "execution_count": 31,
     "metadata": {},
     "output_type": "execute_result"
    }
   ],
   "source": [
    "data_path = f'{run.get_metrics()[\"datastore\"]}'\n",
    "data_path"
   ]
  },
  {
   "cell_type": "code",
   "execution_count": 32,
   "metadata": {},
   "outputs": [],
   "source": [
    "#fs = fsspec.filesystem(protocol, **STORAGE_OPTIONS, container_name=filesystem)"
   ]
  },
  {
   "cell_type": "code",
   "execution_count": 33,
   "metadata": {},
   "outputs": [],
   "source": [
    "#files = []\n",
    "#for file in fs.glob('noaa/isd/year=*/month=*'): # see https://github.com/dask/adlfs/issues/34\n",
    "#    files += fs.ls(f'{file}/')\n",
    "#files = [f'{data_path}/{file}' for file in files if '2019' not in file] # issue with 2019 data - fix wip \n",
    "#files[-5:]"
   ]
  },
  {
   "cell_type": "code",
   "execution_count": 39,
   "metadata": {},
   "outputs": [],
   "source": [
    "import glob\n",
    "\n",
    "files = glob.glob(f'{data_path}/noaa/isd/year=*/month=*/*.parquet')"
   ]
  },
  {
   "cell_type": "code",
   "execution_count": 40,
   "metadata": {},
   "outputs": [],
   "source": [
    "import cudf\n",
    "import dask_cudf"
   ]
  },
  {
   "cell_type": "code",
   "execution_count": null,
   "metadata": {},
   "outputs": [],
   "source": [
    "df = dask.delayed(dask_cudf.read_parquet)(f'{data_path}/noaa/isd/year=*/month=*/*.parquet').compute()#, engine='pyarrow', storage_options=STORAGE_OPTIONS).compute()\n",
    "#df = dask_cudf.from_dask_dataframe(df)\n",
    "#df = cudf.read_parquet(files, storage_options=STORAGE_OPTIONS)\n",
    "%time df.head()"
   ]
  },
  {
   "cell_type": "code",
   "execution_count": 44,
   "metadata": {},
   "outputs": [
    {
     "name": "stdout",
     "output_type": "stream",
     "text": [
      "CPU times: user 7 µs, sys: 2 µs, total: 9 µs\n",
      "Wall time: 15 µs\n"
     ]
    },
    {
     "data": {
      "text/plain": [
       "8103070"
      ]
     },
     "execution_count": 44,
     "metadata": {},
     "output_type": "execute_result"
    }
   ],
   "source": [
    "#df = df.set_index(dd.to_datetime(df.datetime).dt.floor('d'), sorted=False)\n",
    "#df = df.persist() \n",
    "%time len(df)"
   ]
  },
  {
   "cell_type": "code",
   "execution_count": 45,
   "metadata": {},
   "outputs": [
    {
     "name": "stdout",
     "output_type": "stream",
     "text": [
      "CPU times: user 9 µs, sys: 0 ns, total: 9 µs\n",
      "Wall time: 26.7 µs\n"
     ]
    },
    {
     "data": {
      "text/plain": [
       "8103070"
      ]
     },
     "execution_count": 45,
     "metadata": {},
     "output_type": "execute_result"
    }
   ],
   "source": [
    "%time len(df)"
   ]
  },
  {
   "cell_type": "code",
   "execution_count": 47,
   "metadata": {},
   "outputs": [
    {
     "name": "stdout",
     "output_type": "stream",
     "text": [
      "CPU times: user 154 ms, sys: 100 ms, total: 254 ms\n",
      "Wall time: 269 ms\n"
     ]
    },
    {
     "data": {
      "text/html": [
       "<div>\n",
       "<style scoped>\n",
       "    .dataframe tbody tr th:only-of-type {\n",
       "        vertical-align: middle;\n",
       "    }\n",
       "\n",
       "    .dataframe tbody tr th {\n",
       "        vertical-align: top;\n",
       "    }\n",
       "\n",
       "    .dataframe thead th {\n",
       "        text-align: right;\n",
       "    }\n",
       "</style>\n",
       "<table border=\"1\" class=\"dataframe\">\n",
       "  <thead>\n",
       "    <tr style=\"text-align: right;\">\n",
       "      <th></th>\n",
       "      <th>latitude</th>\n",
       "      <th>longitude</th>\n",
       "      <th>elevation</th>\n",
       "      <th>windAngle</th>\n",
       "      <th>windSpeed</th>\n",
       "      <th>temperature</th>\n",
       "      <th>seaLvlPressure</th>\n",
       "      <th>presentWeatherIndicator</th>\n",
       "      <th>pastWeatherIndicator</th>\n",
       "      <th>precipTime</th>\n",
       "      <th>precipDepth</th>\n",
       "      <th>snowDepth</th>\n",
       "      <th>year</th>\n",
       "      <th>day</th>\n",
       "      <th>version</th>\n",
       "    </tr>\n",
       "  </thead>\n",
       "  <tbody>\n",
       "    <tr>\n",
       "      <th>count</th>\n",
       "      <td>8.103070e+06</td>\n",
       "      <td>8.103070e+06</td>\n",
       "      <td>8.103070e+06</td>\n",
       "      <td>6.683238e+06</td>\n",
       "      <td>6.890551e+06</td>\n",
       "      <td>7.905611e+06</td>\n",
       "      <td>2.961762e+06</td>\n",
       "      <td>1.011276e+06</td>\n",
       "      <td>406960.000000</td>\n",
       "      <td>1.604593e+06</td>\n",
       "      <td>1.604593e+06</td>\n",
       "      <td>65899.000000</td>\n",
       "      <td>8103070.0</td>\n",
       "      <td>8.103070e+06</td>\n",
       "      <td>8103070.0</td>\n",
       "    </tr>\n",
       "    <tr>\n",
       "      <th>mean</th>\n",
       "      <td>3.800378e+01</td>\n",
       "      <td>-4.120244e+01</td>\n",
       "      <td>3.522812e+02</td>\n",
       "      <td>1.693299e+02</td>\n",
       "      <td>3.914847e+00</td>\n",
       "      <td>1.905801e+00</td>\n",
       "      <td>1.016950e+03</td>\n",
       "      <td>2.985789e+01</td>\n",
       "      <td>4.107468</td>\n",
       "      <td>5.416817e+00</td>\n",
       "      <td>3.708085e+01</td>\n",
       "      <td>26.130928</td>\n",
       "      <td>2008.0</td>\n",
       "      <td>1.608984e+01</td>\n",
       "      <td>1.0</td>\n",
       "    </tr>\n",
       "    <tr>\n",
       "      <th>std</th>\n",
       "      <td>2.081532e+01</td>\n",
       "      <td>7.861071e+01</td>\n",
       "      <td>5.371495e+02</td>\n",
       "      <td>1.131514e+02</td>\n",
       "      <td>3.319548e+00</td>\n",
       "      <td>1.300685e+01</td>\n",
       "      <td>1.278503e+01</td>\n",
       "      <td>2.740872e+01</td>\n",
       "      <td>2.820931</td>\n",
       "      <td>8.105268e+00</td>\n",
       "      <td>5.328411e+02</td>\n",
       "      <td>53.587699</td>\n",
       "      <td>0.0</td>\n",
       "      <td>8.929491e+00</td>\n",
       "      <td>0.0</td>\n",
       "    </tr>\n",
       "    <tr>\n",
       "      <th>min</th>\n",
       "      <td>-9.000000e+01</td>\n",
       "      <td>-1.796330e+02</td>\n",
       "      <td>-3.500000e+02</td>\n",
       "      <td>0.000000e+00</td>\n",
       "      <td>0.000000e+00</td>\n",
       "      <td>-6.550000e+01</td>\n",
       "      <td>9.113000e+02</td>\n",
       "      <td>0.000000e+00</td>\n",
       "      <td>0.000000</td>\n",
       "      <td>0.000000e+00</td>\n",
       "      <td>0.000000e+00</td>\n",
       "      <td>0.000000</td>\n",
       "      <td>2008.0</td>\n",
       "      <td>1.000000e+00</td>\n",
       "      <td>1.0</td>\n",
       "    </tr>\n",
       "    <tr>\n",
       "      <th>25%</th>\n",
       "      <td>3.395600e+01</td>\n",
       "      <td>-9.661000e+01</td>\n",
       "      <td>3.000000e+01</td>\n",
       "      <td>7.000000e+01</td>\n",
       "      <td>1.500000e+00</td>\n",
       "      <td>-5.100000e+00</td>\n",
       "      <td>1.009800e+03</td>\n",
       "      <td>1.000000e+01</td>\n",
       "      <td>2.000000</td>\n",
       "      <td>1.000000e+00</td>\n",
       "      <td>0.000000e+00</td>\n",
       "      <td>4.000000</td>\n",
       "      <td>2008.0</td>\n",
       "      <td>8.000000e+00</td>\n",
       "      <td>1.0</td>\n",
       "    </tr>\n",
       "    <tr>\n",
       "      <th>50%</th>\n",
       "      <td>4.147800e+01</td>\n",
       "      <td>-7.881700e+01</td>\n",
       "      <td>1.630000e+02</td>\n",
       "      <td>1.800000e+02</td>\n",
       "      <td>3.100000e+00</td>\n",
       "      <td>2.000000e+00</td>\n",
       "      <td>1.017700e+03</td>\n",
       "      <td>1.000000e+01</td>\n",
       "      <td>4.000000</td>\n",
       "      <td>1.000000e+00</td>\n",
       "      <td>0.000000e+00</td>\n",
       "      <td>14.000000</td>\n",
       "      <td>2008.0</td>\n",
       "      <td>1.600000e+01</td>\n",
       "      <td>1.0</td>\n",
       "    </tr>\n",
       "    <tr>\n",
       "      <th>75%</th>\n",
       "      <td>4.830800e+01</td>\n",
       "      <td>1.261700e+01</td>\n",
       "      <td>3.900000e+02</td>\n",
       "      <td>2.600000e+02</td>\n",
       "      <td>5.700000e+00</td>\n",
       "      <td>9.000000e+00</td>\n",
       "      <td>1.024800e+03</td>\n",
       "      <td>6.100000e+01</td>\n",
       "      <td>7.000000</td>\n",
       "      <td>6.000000e+00</td>\n",
       "      <td>0.000000e+00</td>\n",
       "      <td>33.000000</td>\n",
       "      <td>2008.0</td>\n",
       "      <td>2.400000e+01</td>\n",
       "      <td>1.0</td>\n",
       "    </tr>\n",
       "    <tr>\n",
       "      <th>max</th>\n",
       "      <td>8.251700e+01</td>\n",
       "      <td>1.797500e+02</td>\n",
       "      <td>9.999000e+03</td>\n",
       "      <td>3.600000e+02</td>\n",
       "      <td>9.000000e+01</td>\n",
       "      <td>5.400000e+01</td>\n",
       "      <td>1.085000e+03</td>\n",
       "      <td>9.900000e+01</td>\n",
       "      <td>9.000000</td>\n",
       "      <td>9.900000e+01</td>\n",
       "      <td>9.999000e+03</td>\n",
       "      <td>999.000000</td>\n",
       "      <td>2008.0</td>\n",
       "      <td>3.100000e+01</td>\n",
       "      <td>1.0</td>\n",
       "    </tr>\n",
       "  </tbody>\n",
       "</table>\n",
       "</div>"
      ],
      "text/plain": [
       "           latitude     longitude     elevation     windAngle     windSpeed  \\\n",
       "count  8.103070e+06  8.103070e+06  8.103070e+06  6.683238e+06  6.890551e+06   \n",
       "mean   3.800378e+01 -4.120244e+01  3.522812e+02  1.693299e+02  3.914847e+00   \n",
       "std    2.081532e+01  7.861071e+01  5.371495e+02  1.131514e+02  3.319548e+00   \n",
       "min   -9.000000e+01 -1.796330e+02 -3.500000e+02  0.000000e+00  0.000000e+00   \n",
       "25%    3.395600e+01 -9.661000e+01  3.000000e+01  7.000000e+01  1.500000e+00   \n",
       "50%    4.147800e+01 -7.881700e+01  1.630000e+02  1.800000e+02  3.100000e+00   \n",
       "75%    4.830800e+01  1.261700e+01  3.900000e+02  2.600000e+02  5.700000e+00   \n",
       "max    8.251700e+01  1.797500e+02  9.999000e+03  3.600000e+02  9.000000e+01   \n",
       "\n",
       "        temperature  seaLvlPressure  presentWeatherIndicator  \\\n",
       "count  7.905611e+06    2.961762e+06             1.011276e+06   \n",
       "mean   1.905801e+00    1.016950e+03             2.985789e+01   \n",
       "std    1.300685e+01    1.278503e+01             2.740872e+01   \n",
       "min   -6.550000e+01    9.113000e+02             0.000000e+00   \n",
       "25%   -5.100000e+00    1.009800e+03             1.000000e+01   \n",
       "50%    2.000000e+00    1.017700e+03             1.000000e+01   \n",
       "75%    9.000000e+00    1.024800e+03             6.100000e+01   \n",
       "max    5.400000e+01    1.085000e+03             9.900000e+01   \n",
       "\n",
       "       pastWeatherIndicator    precipTime   precipDepth     snowDepth  \\\n",
       "count         406960.000000  1.604593e+06  1.604593e+06  65899.000000   \n",
       "mean               4.107468  5.416817e+00  3.708085e+01     26.130928   \n",
       "std                2.820931  8.105268e+00  5.328411e+02     53.587699   \n",
       "min                0.000000  0.000000e+00  0.000000e+00      0.000000   \n",
       "25%                2.000000  1.000000e+00  0.000000e+00      4.000000   \n",
       "50%                4.000000  1.000000e+00  0.000000e+00     14.000000   \n",
       "75%                7.000000  6.000000e+00  0.000000e+00     33.000000   \n",
       "max                9.000000  9.900000e+01  9.999000e+03    999.000000   \n",
       "\n",
       "            year           day    version  \n",
       "count  8103070.0  8.103070e+06  8103070.0  \n",
       "mean      2008.0  1.608984e+01        1.0  \n",
       "std          0.0  8.929491e+00        0.0  \n",
       "min       2008.0  1.000000e+00        1.0  \n",
       "25%       2008.0  8.000000e+00        1.0  \n",
       "50%       2008.0  1.600000e+01        1.0  \n",
       "75%       2008.0  2.400000e+01        1.0  \n",
       "max       2008.0  3.100000e+01        1.0  "
      ]
     },
     "execution_count": 47,
     "metadata": {},
     "output_type": "execute_result"
    }
   ],
   "source": [
    "%time df.describe()"
   ]
  },
  {
   "cell_type": "code",
   "execution_count": null,
   "metadata": {},
   "outputs": [],
   "source": [
    "%time bites = df.memory_usage(index=True, deep=True).sum().compute()\n",
    "print(f'Dataframe is: {round(bites/1e9, 2)}GB')"
   ]
  },
  {
   "cell_type": "code",
   "execution_count": null,
   "metadata": {},
   "outputs": [],
   "source": [
    "%time means = df.groupby(df.index).mean().compute()\n",
    "means.head()"
   ]
  },
  {
   "cell_type": "code",
   "execution_count": null,
   "metadata": {},
   "outputs": [],
   "source": [
    "for col in list(means.columns):\n",
    "    fig = plt.figure(figsize=(16, 8))\n",
    "    #plt.style.use('dark_background')\n",
    "    means[col].plot(color='b')\n",
    "    plt.title('Average of {}'.format(col))\n",
    "    plt.xlim([datetime(2008, 1, 1), datetime(2018, 12, 31)])\n",
    "    plt.grid()\n",
    "    \n",
    "    # optionally, log the image to the run\n",
    "    run.log_image(f'mean_{col}', plot=plt)"
   ]
  },
  {
   "cell_type": "markdown",
   "metadata": {},
   "source": [
    "You can see the images logged to the run in the studio."
   ]
  },
  {
   "cell_type": "code",
   "execution_count": null,
   "metadata": {},
   "outputs": [],
   "source": [
    "run"
   ]
  },
  {
   "cell_type": "markdown",
   "metadata": {},
   "source": [
    "## Prepare data"
   ]
  },
  {
   "cell_type": "code",
   "execution_count": null,
   "metadata": {},
   "outputs": [],
   "source": [
    "## insert any Pandas-like Dask data prep code \n",
    "df['temperature'] = df['temperature']*(9/5)+32 # 'Merica"
   ]
  },
  {
   "cell_type": "markdown",
   "metadata": {},
   "source": [
    "## Write data\n",
    "\n",
    "**Important:** you will have not access to write to this account, get your own storage account! \n",
    "\n",
    "See the [API documentation for dask.dataframe.to_parquet](https://docs.dask.org/en/latest/dataframe-api.html#dask.dataframe.to_parquet) for additional settings. "
   ]
  },
  {
   "cell_type": "code",
   "execution_count": null,
   "metadata": {},
   "outputs": [],
   "source": [
    "df = df.repartition(npartitions=df.npartitions*10)\n",
    "%time dask.delayed(df.to_parquet)(f'abfs://outputs/noaa/isd_out.parquet', compression='lz4', storage_options=STORAGE_OPTIONS).compute()"
   ]
  },
  {
   "cell_type": "markdown",
   "metadata": {},
   "source": [
    "![Write gif](media/write.gif)"
   ]
  },
  {
   "cell_type": "markdown",
   "metadata": {},
   "source": [
    "## Train XGBoost model"
   ]
  },
  {
   "cell_type": "code",
   "execution_count": null,
   "metadata": {},
   "outputs": [],
   "source": [
    "df = dask.delayed(dd.read_parquet)(files, engine='pyarrow', storage_options=STORAGE_OPTIONS).compute()"
   ]
  },
  {
   "cell_type": "code",
   "execution_count": null,
   "metadata": {},
   "outputs": [],
   "source": [
    "files = []\n",
    "for file in fs.glob('noaa/isd/year=*/month=*'): # see https://github.com/dask/adlfs/issues/34\n",
    "    files += fs.ls(f'{file}/')\n",
    "files = [f'{protocol}://{container}/{file}' for file in files if '2019' in file] \n",
    "\n",
    "df2019 = dask.delayed(dd.read_parquet)(files, engine='pyarrow', storage_options=STORAGE_OPTIONS).compute() "
   ]
  },
  {
   "cell_type": "code",
   "execution_count": null,
   "metadata": {},
   "outputs": [],
   "source": [
    "# begin data prep\n",
    "df = df.fillna(0) \n",
    "df2019 = df2019.fillna(0) "
   ]
  },
  {
   "cell_type": "code",
   "execution_count": null,
   "metadata": {},
   "outputs": [],
   "source": [
    "df['month'] = df['datetime'].dt.month\n",
    "df2019['month'] = df2019['datetime'].dt.month"
   ]
  },
  {
   "cell_type": "code",
   "execution_count": null,
   "metadata": {},
   "outputs": [],
   "source": [
    "cols = list(df.columns)\n",
    "cols = [col for col in cols if df.dtypes[col] != 'object' and col not in ['version', 'datetime']]\n",
    "cols"
   ]
  },
  {
   "cell_type": "code",
   "execution_count": null,
   "metadata": {},
   "outputs": [],
   "source": [
    "X = df[[col for col in cols if col not in ['temperature']]].persist()\n",
    "y = df.temperature.persist()\n",
    "# end data prep - persist intelligently per https://docs.dask.org/en/latest/best-practices.html"
   ]
  },
  {
   "cell_type": "code",
   "execution_count": null,
   "metadata": {},
   "outputs": [],
   "source": [
    "xgb = XGBRegressor(n_estimators=16)\n",
    "%time xgb.fit(X, y)"
   ]
  },
  {
   "cell_type": "code",
   "execution_count": null,
   "metadata": {},
   "outputs": [],
   "source": [
    "%time y_pred = xgb.predict(X).compute()"
   ]
  },
  {
   "cell_type": "code",
   "execution_count": null,
   "metadata": {},
   "outputs": [],
   "source": [
    "rmse = (((y.to_dask_array().compute()-y_pred)**2).mean())**.5 # runs locally, distribute (?)\n",
    "print(f'Training RMSE: {round(rmse, 3)}')"
   ]
  },
  {
   "cell_type": "markdown",
   "metadata": {},
   "source": [
    "## Evaluate model"
   ]
  },
  {
   "cell_type": "code",
   "execution_count": null,
   "metadata": {},
   "outputs": [],
   "source": [
    "X_test = df2019[[col for col in cols if col not in ['temperature']]].persist()\n",
    "y_test = df2019.temperature.persist()"
   ]
  },
  {
   "cell_type": "code",
   "execution_count": null,
   "metadata": {},
   "outputs": [],
   "source": [
    "%time y_pred = xgb.predict(X_test).compute()"
   ]
  },
  {
   "cell_type": "code",
   "execution_count": null,
   "metadata": {},
   "outputs": [],
   "source": [
    "rmse = (((y_test.to_dask_array().compute()-y_pred)**2).mean())**.5 # runs locally, distribute (?)\n",
    "print(f'Test RMSE: {round(rmse, 3)}')"
   ]
  },
  {
   "cell_type": "markdown",
   "metadata": {},
   "source": [
    "## Register model"
   ]
  },
  {
   "cell_type": "code",
   "execution_count": null,
   "metadata": {},
   "outputs": [],
   "source": [
    "model_path = 'xgboost_noaa_isd.joblib.dat'\n",
    "joblib.dump(xgb, model_path)\n",
    "xgb = joblib.load(model_path)"
   ]
  },
  {
   "cell_type": "code",
   "execution_count": null,
   "metadata": {},
   "outputs": [],
   "source": [
    "model = Model.register(ws, model_path, 'xgboost-noaa-isd', \n",
    "                       description='Dask XGBoost NOAA ISD temperature predictor',\n",
    "                       model_framework='XGBoost')"
   ]
  },
  {
   "cell_type": "markdown",
   "metadata": {},
   "source": [
    "## End the run\n",
    "\n",
    "Cluster will return to 0 nodes."
   ]
  },
  {
   "cell_type": "code",
   "execution_count": null,
   "metadata": {},
   "outputs": [],
   "source": [
    "c.close()\n",
    "run.cancel()"
   ]
  },
  {
   "cell_type": "code",
   "execution_count": null,
   "metadata": {},
   "outputs": [],
   "source": [
    "t_end = time.time()\n",
    "print(f'Total run time: {round((t_end-t_start)/60, 2)} minutes')"
   ]
  }
 ],
 "metadata": {
  "kernelspec": {
   "display_name": "Python 3",
   "language": "python",
   "name": "python3"
  },
  "language_info": {
   "codemirror_mode": {
    "name": "ipython",
    "version": 3
   },
   "file_extension": ".py",
   "mimetype": "text/x-python",
   "name": "python",
   "nbconvert_exporter": "python",
   "pygments_lexer": "ipython3",
   "version": "3.6.7"
  }
 },
 "nbformat": 4,
 "nbformat_minor": 4
}
